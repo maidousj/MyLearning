{
 "cells": [
  {
   "cell_type": "markdown",
   "metadata": {},
   "source": [
    "#### 项目案例2: 手写数字识别系统\n",
    "项目概述\n",
    "\n",
    "构造一个能识别数字 0 到 9 的基于 KNN 分类器的手写数字识别系统。\n",
    "\n",
    "需要识别的数字是存储在文本文件中的具有相同的色彩和大小:宽高是 32 像素 * 32 像素的黑白图像。\n",
    "\n",
    "步骤\n",
    "1. 收集数据:提供文本文件。\n",
    "2. 准备数据:编写函数 img2vector(), 将图像格式转换为分类器使用的向量格式 \n",
    "3. 分析数据:在 Python 命令提示符中检查数据，确保它符合要求 \n",
    "4. 训练算法:此步骤不适用于 KNN \n",
    "5. 测试算法:编写函数使用提供的部分数据集作为测试样本，测试样本与非测试样本的\n",
    "      区别在于测试样本是已经完成分类的数据，如果预测分类与实际类别不同，\n",
    "      则标记为一个错误\n",
    "6. 使用算法:本例没有完成此步骤，若你感兴趣可以构建完整的应用程序，从图像中提取\n",
    "      数字，并完成数字识别，美国的邮件分拣系统就是一个实际运行的类似系统"
   ]
  },
  {
   "cell_type": "code",
   "execution_count": 1,
   "metadata": {},
   "outputs": [],
   "source": [
    "### 准备数据: 编写函数 img2vector(), 将图像文本数据转换为分类器使用的向量\n",
    "import numpy as np\n",
    "def img2vector(filename):\n",
    "    \"\"\"\n",
    "    para:\n",
    "        filename: 文件路径+名称\n",
    "    return:\n",
    "        retVec: 一维数组，按行读入文件内容\n",
    "    \"\"\"\n",
    "    retVec = np.zeros((1,1024))\n",
    "    fr = open(filename)\n",
    "    for i in range(32):\n",
    "        line = fr.readline()\n",
    "        for j in range(32):\n",
    "            retVec[0, 32*i+j] = int(line[j])\n",
    "    return retVec\n"
   ]
  },
  {
   "cell_type": "code",
   "execution_count": 2,
   "metadata": {},
   "outputs": [],
   "source": [
    "## 分类算法\n",
    "def classify(inputData, dataSet, label, k):\n",
    "    \"\"\"\n",
    "    para:\n",
    "        inputData: 被分类的输入数据\n",
    "        dataSet: 数据集\n",
    "        label：对应的标签\n",
    "        k：取k个最近的\n",
    "    \"\"\"\n",
    "    dataSize = dataSet.shape[0]\n",
    "    ## 计算欧式距离\n",
    "    diff = np.tile(inputData, (dataSize, 1)) - dataSet\n",
    "    sqdiff = diff ** 2\n",
    "    # 将矩阵的每一行相加\n",
    "    sqDistance = np.sum(sqdiff, axis=1)\n",
    "    distance = np.sqrt(sqDistance)\n",
    "    \n",
    "    ## 对距离进行排序\n",
    "    sortedDistIndex = np.argsort(distance) # argsort()根据元素的值从大到小对元素进行排序，返回下标\n",
    "    \n",
    "    ## 选择距离最小的k个点\n",
    "    classCount={}\n",
    "    for i in range(k):\n",
    "        voteLabel = label[sortedDistIndex[i]]\n",
    "        ## 对选取的K个样本所属的类别个数进行统计\n",
    "        ## list.get(k,d) 其中 get相当于一条if...else...语句,\n",
    "        ## 参数k在字典中，字典将返回list[k];如果参数k不在字典中则返回参数d,如果K在字典中则返回k对应的value值\n",
    "        classCount[voteLabel] = classCount.get(voteLabel, 0) + 1\n",
    "    ## 选取出现的类别次数最多的类别\n",
    "    maxCount = 0\n",
    "    for key,value in classCount.items():\n",
    "        if value > maxCount:\n",
    "            maxCount = value\n",
    "            classes = key\n",
    "\n",
    "    return classes   "
   ]
  },
  {
   "cell_type": "code",
   "execution_count": 3,
   "metadata": {},
   "outputs": [],
   "source": [
    "### 测试算法:编写函数使用提供的部分数据集作为测试样本，如果预测分类与实际类别不同，则标记为一个错误\n",
    "from os import listdir\n",
    "def handwritingClassTest():\n",
    "    # 1. 导入训练数据\n",
    "    hwLabels = []\n",
    "    trainFileList = listdir(\"../data/knn/trainingDigits\")\n",
    "    m = len(trainFileList)\n",
    "    trainingMat = np.zeros((m, 1024))\n",
    "    for i in range(m):\n",
    "        fileName = trainFileList[i]\n",
    "        file = fileName.split('.')[0] # take off .txt\n",
    "        classNumStr = int(file.split('_')[0])\n",
    "        hwLabels.append(classNumStr)\n",
    "        # 将 32*32的矩阵->1*1024的矩阵\n",
    "        trainingMat[i, :] = img2vector('../data/knn/trainingDigits/%s' % fileName)\n",
    "\n",
    "    # 2. 测试\n",
    "    testFileList = listdir(\"../data/knn/testDigits\")\n",
    "    mTest = len(testFileList)\n",
    "    errCount = 0.0\n",
    "    for i in range(mTest):\n",
    "        testFileName = testFileList[i]\n",
    "        testFile = testFileName.split('.')[0]\n",
    "        testClassNum = int(testFile.split('_')[0])\n",
    "        vectorUnderTest = img2vector('../data/knn/testDigits/%s' % testFileName)\n",
    "        classifierResult = classify(vectorUnderTest, trainingMat, hwLabels, 3)\n",
    "        # print(\"Classify to {} real is {}\".format(classifierResult, testClassNum))\n",
    "        if(classifierResult != testClassNum):\n",
    "            errCount += 1\n",
    "    print(\"Total error is {}\".format(errCount))\n",
    "    print(\"Error rate is {}\".format(errCount/mTest))\n",
    "    "
   ]
  },
  {
   "cell_type": "code",
   "execution_count": 4,
   "metadata": {},
   "outputs": [
    {
     "name": "stdout",
     "output_type": "stream",
     "text": [
      "Total error is 12.0\n",
      "Error rate is 0.012684989429175475\n"
     ]
    }
   ],
   "source": [
    "handwritingClassTest()"
   ]
  },
  {
   "cell_type": "code",
   "execution_count": null,
   "metadata": {},
   "outputs": [],
   "source": []
  }
 ],
 "metadata": {
  "kernelspec": {
   "display_name": "Python 3",
   "language": "python",
   "name": "python3"
  },
  "language_info": {
   "codemirror_mode": {
    "name": "ipython",
    "version": 3
   },
   "file_extension": ".py",
   "mimetype": "text/x-python",
   "name": "python",
   "nbconvert_exporter": "python",
   "pygments_lexer": "ipython3",
   "version": "3.6.5"
  }
 },
 "nbformat": 4,
 "nbformat_minor": 2
}
