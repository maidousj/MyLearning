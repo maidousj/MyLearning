{
 "cells": [
  {
   "cell_type": "markdown",
   "metadata": {},
   "source": [
    "#### 项目案例3: 使用朴素贝叶斯分类器从个人广告中获取区域倾向 \n",
    "##### 项目概述\n",
    "\n",
    "广告商往往想知道关于一个人的一些特定人口统计信息，以便能更好地定向推销广告。\n",
    "\n",
    "我们将分别从美国的两个城市中选取一些人，通过分析这些人发布的信息，来比较这两个城市的人们在广告用词上是否不同。\n",
    "如果结论确实不同，那么他们各自常用的词是那些，从人们的用词当中，我们能否对不同城市的人所关心的内容有所了解。\n",
    "\n",
    "##### 开发流程\n",
    "\n",
    "```\n",
    "收集数据: 从 RSS 源收集内容，这里需要对 RSS 源构建一个接口\n",
    "准备数据: 将文本文件解析成词条向量\n",
    "分析数据: 检查词条确保解析的正确性\n",
    "训练算法: 使用我们之前建立的 trainNB0() 函数\n",
    "测试算法: 观察错误率，确保分类器可用。可以修改切分程序，以降低错误率，提高分类结果\n",
    "使用算法: 构建一个完整的程序，封装所有内容。给定两个 RSS 源，该程序会显示最常用的公共词\n",
    "```"
   ]
  },
  {
   "cell_type": "markdown",
   "metadata": {},
   "source": [
    "##### 收集数据: 从 RSS 源收集内容，这里需要对 RSS 源构建一个接口\n",
    "```shell\n",
    "sudo pip3 install -i https://pypi.tuna.tsinghua.edu.cn/simple/ feedparser\n",
    "```"
   ]
  },
  {
   "cell_type": "code",
   "execution_count": 2,
   "metadata": {},
   "outputs": [],
   "source": [
    "# 准备数据: 将文本文件解析成词条向量\n",
    "# 创建一个包含在所有文档中出现的不重复词的列表\n",
    "def createVocabList(dataSet):\n",
    "    vocabSet=set([])    #创建一个空集\n",
    "    for document in dataSet:\n",
    "        vocabSet=vocabSet|set(document)   #创建两个集合的并集\n",
    "    return list(vocabSet)\n",
    "def setOfWords2VecMN(vocabList,inputSet):\n",
    "    returnVec=[0]*len(vocabList)  #创建一个其中所含元素都为0的向量\n",
    "    for word in inputSet:\n",
    "        if word in vocabList:\n",
    "            returnVec[vocabList.index(word)]+=1\n",
    "    return returnVec\n",
    "\n",
    "#文件解析\n",
    "def textParse(bigString):\n",
    "    import re\n",
    "    listOfTokens=re.split(r'\\W*',bigString)\n",
    "    return [tok.lower() for tok in listOfTokens if len(tok)>2]"
   ]
  },
  {
   "cell_type": "code",
   "execution_count": 3,
   "metadata": {},
   "outputs": [],
   "source": [
    "# 训练算法: 使用我们之前建立的 trainNB0() 函数\n",
    "def trainNB0(trainMatrix, trainCategory):\n",
    "    \"\"\"\n",
    "    训练数据优化版本\n",
    "    :param trainMatrix: 文件单词矩阵\n",
    "    :param trainCategory: 文件对应的类别\n",
    "    :return:\n",
    "    \"\"\"\n",
    "    # 总文件数\n",
    "    numTrainDocs = len(trainMatrix)\n",
    "    # 总单词数\n",
    "    numWords = len(trainMatrix[0])\n",
    "    # 侮辱性文件的出现概率\n",
    "    pAbusive = sum(trainCategory) / float(numTrainDocs)\n",
    "    # 构造单词出现次数列表\n",
    "    # p0Num 正常的统计\n",
    "    # p1Num 侮辱的统计 \n",
    "    # 避免单词列表中的任何一个单词为0，而导致最后的乘积为0，所以将每个单词的出现次数初始化为 1\n",
    "    p0Num = ones(numWords)#[0,0......]->[1,1,1,1,1.....]\n",
    "    p1Num = ones(numWords)\n",
    "\n",
    "    # 整个数据集单词出现总数，2.0根据样本/实际调查结果调整分母的值（2主要是避免分母为0，当然值可以调整）\n",
    "    # p0Denom 正常的统计\n",
    "    # p1Denom 侮辱的统计\n",
    "    p0Denom = 2.0\n",
    "    p1Denom = 2.0\n",
    "    for i in range(numTrainDocs):\n",
    "        if trainCategory[i] == 1:\n",
    "            # 累加辱骂词的频次\n",
    "            p1Num += trainMatrix[i]\n",
    "            # 对每篇文章的辱骂的频次 进行统计汇总\n",
    "            p1Denom += sum(trainMatrix[i])\n",
    "        else:\n",
    "            p0Num += trainMatrix[i]\n",
    "            p0Denom += sum(trainMatrix[i])\n",
    "    # 类别1，即侮辱性文档的[log(P(F1|C1)),log(P(F2|C1)),\n",
    "    # log(P(F3|C1)),log(P(F4|C1)),log(P(F5|C1))....]列表\n",
    "    p1Vect = log(p1Num / p1Denom)\n",
    "    # 类别0，即正常文档的[log(P(F1|C0)),log(P(F2|C0)),\n",
    "    # log(P(F3|C0)),log(P(F4|C0)),log(P(F5|C0))....]列表\n",
    "    p0Vect = log(p0Num / p0Denom)\n",
    "    return p0Vect, p1Vect, pAbusive"
   ]
  },
  {
   "cell_type": "code",
   "execution_count": 18,
   "metadata": {},
   "outputs": [],
   "source": [
    "# 测试算法: 观察错误率，确保分类器可用。可以修改切分程序，以降低错误率，提高分类结果\n",
    "from numpy import random\n",
    "import ipdb\n",
    "#RSS源分类器及高频词去除函数\n",
    "def calcMostFreq(vocabList,fullText):\n",
    "    import operator\n",
    "    freqDict={}\n",
    "    for token in vocabList:  #遍历词汇表中的每个词\n",
    "        freqDict[token]=fullText.count(token)  #统计每个词在文本中出现的次数\n",
    "\n",
    "    #根据每个词出现的次数从高到底对字典进行排序\n",
    "    sortedFreq=sorted(freqDict.items(),key=operator.itemgetter(1),reverse=True)  \n",
    "    return sortedFreq[:30]   #返回出现次数最高的30个单词\n",
    "def localWords(feed1,feed0):\n",
    "    import feedparser\n",
    "    docList=[];classList=[];fullText=[]\n",
    "    minLen=min(len(feed1['entries']),len(feed0['entries']))\n",
    "    ipdb.set_trace()\n",
    "    for i in range(minLen):\n",
    "        wordList=textParse(feed1['entries'][i]['summary'])   #每次访问一条RSS源\n",
    "        docList.append(wordList)\n",
    "        fullText.extend(wordList)\n",
    "        classList.append(1)\n",
    "        wordList=textParse(feed0['entries'][i]['summary'])\n",
    "        docList.append(wordList)\n",
    "        fullText.extend(wordList)\n",
    "        classList.append(0)\n",
    "    vocabList=createVocabList(docList)\n",
    "    top30Words=calcMostFreq(vocabList,fullText)\n",
    "    for pairW in top30Words:\n",
    "        if pairW[0] in vocabList:vocabList.remove(pairW[0])    #去掉出现次数最高的那些词\n",
    "    trainingSet=range(2*minLen);testSet=[]\n",
    "    for i in range(20):\n",
    "        randIndex=int(random.uniform(0,len(trainingSet)))\n",
    "        testSet.append(trainingSet[randIndex])\n",
    "        del(trainingSet[randIndex])\n",
    "    trainMat=[];trainClasses=[]\n",
    "    for docIndex in trainingSet:\n",
    "        trainMat.append(bagOfWords2VecMN(vocabList,docList[docIndex]))\n",
    "        trainClasses.append(classList[docIndex])\n",
    "    p0V,p1V,pSpam=trainNBO(array(trainMat),array(trainClasses))\n",
    "    errorCount=0\n",
    "    for docIndex in testSet:\n",
    "        wordVector=bagOfWords2VecMN(vocabList,docList[docIndex])\n",
    "        if classifyNB(array(wordVector),p0V,p1V,pSpam)!=classList[docIndex]:\n",
    "            errorCount+=1\n",
    "    print('the error rate is:',float(errorCount)/len(testSet))\n",
    "    return vocabList,p0V,p1V\n"
   ]
  },
  {
   "cell_type": "code",
   "execution_count": 6,
   "metadata": {},
   "outputs": [],
   "source": [
    "#朴素贝叶斯分类函数\n",
    "def classifyNB(vec2Classify,p0Vec,p1Vec,pClass1):\n",
    "    p1=sum(vec2Classify*p1Vec)+log(pClass1)\n",
    "    p0=sum(vec2Classify*p0Vec)+log(1.0-pClass1)\n",
    "    if p1>p0:\n",
    "        return 1\n",
    "    else:\n",
    "        return 0"
   ]
  },
  {
   "cell_type": "code",
   "execution_count": 9,
   "metadata": {},
   "outputs": [],
   "source": [
    "# 使用算法: 构建一个完整的程序，封装所有内容。给定两个 RSS 源，该程序会显示最常用的公共词\n",
    "import feedparser\n",
    "ny=feedparser.parse('http://newyork.craigslist.org/stp/index.rss')\n",
    "sy=feedparser.parse('http://sfbay.craigslist.org/stp/index.rss')"
   ]
  },
  {
   "cell_type": "code",
   "execution_count": 22,
   "metadata": {},
   "outputs": [
    {
     "name": "stdout",
     "output_type": "stream",
     "text": [
      "> \u001b[0;32m<ipython-input-18-ea23e9b13763>\u001b[0m(19)\u001b[0;36mlocalWords\u001b[0;34m()\u001b[0m\n",
      "\u001b[0;32m     18 \u001b[0;31m    \u001b[0mipdb\u001b[0m\u001b[0;34m.\u001b[0m\u001b[0mset_trace\u001b[0m\u001b[0;34m(\u001b[0m\u001b[0;34m)\u001b[0m\u001b[0;34m\u001b[0m\u001b[0m\n",
      "\u001b[0m\u001b[0;32m---> 19 \u001b[0;31m    \u001b[0;32mfor\u001b[0m \u001b[0mi\u001b[0m \u001b[0;32min\u001b[0m \u001b[0mrange\u001b[0m\u001b[0;34m(\u001b[0m\u001b[0mminLen\u001b[0m\u001b[0;34m)\u001b[0m\u001b[0;34m:\u001b[0m\u001b[0;34m\u001b[0m\u001b[0m\n",
      "\u001b[0m\u001b[0;32m     20 \u001b[0;31m        \u001b[0mwordList\u001b[0m\u001b[0;34m=\u001b[0m\u001b[0mtextParse\u001b[0m\u001b[0;34m(\u001b[0m\u001b[0mfeed1\u001b[0m\u001b[0;34m[\u001b[0m\u001b[0;34m'entries'\u001b[0m\u001b[0;34m]\u001b[0m\u001b[0;34m[\u001b[0m\u001b[0mi\u001b[0m\u001b[0;34m]\u001b[0m\u001b[0;34m[\u001b[0m\u001b[0;34m'summary'\u001b[0m\u001b[0;34m]\u001b[0m\u001b[0;34m)\u001b[0m   \u001b[0;31m#每次访问一条RSS源\u001b[0m\u001b[0;34m\u001b[0m\u001b[0m\n",
      "\u001b[0m\n",
      "ipdb> n\n",
      "> \u001b[0;32m<ipython-input-18-ea23e9b13763>\u001b[0m(28)\u001b[0;36mlocalWords\u001b[0;34m()\u001b[0m\n",
      "\u001b[0;32m     27 \u001b[0;31m        \u001b[0mclassList\u001b[0m\u001b[0;34m.\u001b[0m\u001b[0mappend\u001b[0m\u001b[0;34m(\u001b[0m\u001b[0;36m0\u001b[0m\u001b[0;34m)\u001b[0m\u001b[0;34m\u001b[0m\u001b[0m\n",
      "\u001b[0m\u001b[0;32m---> 28 \u001b[0;31m    \u001b[0mvocabList\u001b[0m\u001b[0;34m=\u001b[0m\u001b[0mcreateVocabList\u001b[0m\u001b[0;34m(\u001b[0m\u001b[0mdocList\u001b[0m\u001b[0;34m)\u001b[0m\u001b[0;34m\u001b[0m\u001b[0m\n",
      "\u001b[0m\u001b[0;32m     29 \u001b[0;31m    \u001b[0mtop30Words\u001b[0m\u001b[0;34m=\u001b[0m\u001b[0mcalcMostFreq\u001b[0m\u001b[0;34m(\u001b[0m\u001b[0mvocabList\u001b[0m\u001b[0;34m,\u001b[0m\u001b[0mfullText\u001b[0m\u001b[0;34m)\u001b[0m\u001b[0;34m\u001b[0m\u001b[0m\n",
      "\u001b[0m\n",
      "ipdb> n\n",
      "> \u001b[0;32m<ipython-input-18-ea23e9b13763>\u001b[0m(29)\u001b[0;36mlocalWords\u001b[0;34m()\u001b[0m\n",
      "\u001b[0;32m     28 \u001b[0;31m    \u001b[0mvocabList\u001b[0m\u001b[0;34m=\u001b[0m\u001b[0mcreateVocabList\u001b[0m\u001b[0;34m(\u001b[0m\u001b[0mdocList\u001b[0m\u001b[0;34m)\u001b[0m\u001b[0;34m\u001b[0m\u001b[0m\n",
      "\u001b[0m\u001b[0;32m---> 29 \u001b[0;31m    \u001b[0mtop30Words\u001b[0m\u001b[0;34m=\u001b[0m\u001b[0mcalcMostFreq\u001b[0m\u001b[0;34m(\u001b[0m\u001b[0mvocabList\u001b[0m\u001b[0;34m,\u001b[0m\u001b[0mfullText\u001b[0m\u001b[0;34m)\u001b[0m\u001b[0;34m\u001b[0m\u001b[0m\n",
      "\u001b[0m\u001b[0;32m     30 \u001b[0;31m    \u001b[0;32mfor\u001b[0m \u001b[0mpairW\u001b[0m \u001b[0;32min\u001b[0m \u001b[0mtop30Words\u001b[0m\u001b[0;34m:\u001b[0m\u001b[0;34m\u001b[0m\u001b[0m\n",
      "\u001b[0m\n",
      "ipdb> p vocabList\n",
      "[]\n",
      "ipdb> p docList\n",
      "[]\n",
      "ipdb> c\n"
     ]
    },
    {
     "ename": "IndexError",
     "evalue": "range object index out of range",
     "output_type": "error",
     "traceback": [
      "\u001b[0;31m---------------------------------------------------------------------------\u001b[0m",
      "\u001b[0;31mIndexError\u001b[0m                                Traceback (most recent call last)",
      "\u001b[0;32m<ipython-input-22-801a89909931>\u001b[0m in \u001b[0;36m<module>\u001b[0;34m\u001b[0m\n\u001b[0;32m----> 1\u001b[0;31m \u001b[0mvocabList\u001b[0m\u001b[0;34m,\u001b[0m\u001b[0mpSF\u001b[0m\u001b[0;34m,\u001b[0m\u001b[0mpNY\u001b[0m \u001b[0;34m=\u001b[0m \u001b[0mlocalWords\u001b[0m\u001b[0;34m(\u001b[0m\u001b[0mny\u001b[0m\u001b[0;34m,\u001b[0m\u001b[0msy\u001b[0m\u001b[0;34m)\u001b[0m\u001b[0;34m\u001b[0m\u001b[0m\n\u001b[0m",
      "\u001b[0;32m<ipython-input-18-ea23e9b13763>\u001b[0m in \u001b[0;36mlocalWords\u001b[0;34m(feed1, feed0)\u001b[0m\n\u001b[1;32m     27\u001b[0m         \u001b[0mclassList\u001b[0m\u001b[0;34m.\u001b[0m\u001b[0mappend\u001b[0m\u001b[0;34m(\u001b[0m\u001b[0;36m0\u001b[0m\u001b[0;34m)\u001b[0m\u001b[0;34m\u001b[0m\u001b[0m\n\u001b[1;32m     28\u001b[0m     \u001b[0mvocabList\u001b[0m\u001b[0;34m=\u001b[0m\u001b[0mcreateVocabList\u001b[0m\u001b[0;34m(\u001b[0m\u001b[0mdocList\u001b[0m\u001b[0;34m)\u001b[0m\u001b[0;34m\u001b[0m\u001b[0m\n\u001b[0;32m---> 29\u001b[0;31m     \u001b[0mtop30Words\u001b[0m\u001b[0;34m=\u001b[0m\u001b[0mcalcMostFreq\u001b[0m\u001b[0;34m(\u001b[0m\u001b[0mvocabList\u001b[0m\u001b[0;34m,\u001b[0m\u001b[0mfullText\u001b[0m\u001b[0;34m)\u001b[0m\u001b[0;34m\u001b[0m\u001b[0m\n\u001b[0m\u001b[1;32m     30\u001b[0m     \u001b[0;32mfor\u001b[0m \u001b[0mpairW\u001b[0m \u001b[0;32min\u001b[0m \u001b[0mtop30Words\u001b[0m\u001b[0;34m:\u001b[0m\u001b[0;34m\u001b[0m\u001b[0m\n\u001b[1;32m     31\u001b[0m         \u001b[0;32mif\u001b[0m \u001b[0mpairW\u001b[0m\u001b[0;34m[\u001b[0m\u001b[0;36m0\u001b[0m\u001b[0;34m]\u001b[0m \u001b[0;32min\u001b[0m \u001b[0mvocabList\u001b[0m\u001b[0;34m:\u001b[0m\u001b[0mvocabList\u001b[0m\u001b[0;34m.\u001b[0m\u001b[0mremove\u001b[0m\u001b[0;34m(\u001b[0m\u001b[0mpairW\u001b[0m\u001b[0;34m[\u001b[0m\u001b[0;36m0\u001b[0m\u001b[0;34m]\u001b[0m\u001b[0;34m)\u001b[0m    \u001b[0;31m#去掉出现次数最高的那些词\u001b[0m\u001b[0;34m\u001b[0m\u001b[0m\n",
      "\u001b[0;31mIndexError\u001b[0m: range object index out of range"
     ]
    }
   ],
   "source": [
    "vocabList,pSF,pNY = localWords(ny,sy)"
   ]
  },
  {
   "cell_type": "code",
   "execution_count": 21,
   "metadata": {},
   "outputs": [
    {
     "data": {
      "text/plain": [
       "{'feed': {'html': {'class': 'no-js'},\n",
       "  'links': [{'type': 'text/css',\n",
       "    'rel': 'stylesheet',\n",
       "    'media': 'all',\n",
       "    'href': 'https://www.craigslist.org/styles/simple-page.css?v=1522ad26a5713653eb46d2c31b48f4fd'},\n",
       "   {'type': 'text/css',\n",
       "    'rel': 'stylesheet',\n",
       "    'media': 'all',\n",
       "    'href': 'https://www.craigslist.org/styles/jquery-ui-clcustom.css?v=3b05ddffb7c7f5b62066deff2dda9339'},\n",
       "   {'type': 'text/css',\n",
       "    'rel': 'stylesheet',\n",
       "    'media': 'all',\n",
       "    'href': 'https://www.craigslist.org/styles/jquery.qtip-2.2.1.css?v=cd202aead4d1dd4894fbae4ade23fcf8'}],\n",
       "  'meta': {'name': 'viewport',\n",
       "   'content': 'width=device-width,initial-scale=1'}},\n",
       " 'entries': [],\n",
       " 'bozo': 1,\n",
       " 'headers': {'Connection': 'keep-alive',\n",
       "  'Last-Modified': 'Sun, 23 Jun 2019 13:33:56 GMT',\n",
       "  'Date': 'Sun, 23 Jun 2019 13:33:56 GMT',\n",
       "  'Content-Encoding': 'gzip',\n",
       "  'Vary': 'Accept-Encoding',\n",
       "  'Content-Length': '1863',\n",
       "  'X-Frame-Options': 'SAMEORIGIN',\n",
       "  'Content-Type': 'text/html; charset=UTF-8',\n",
       "  'Set-Cookie': 'cl_b=-BqmjLuV6RGBt4WgARxBrQ7TxLg;path=/;domain=.craigslist.org;expires=Fri, 01-Jan-2038 00:00:00 GMT',\n",
       "  'Server': 'Apache',\n",
       "  'Strict-Transport-Security': 'max-age=86400'},\n",
       " 'updated': 'Sun, 23 Jun 2019 13:33:56 GMT',\n",
       " 'updated_parsed': time.struct_time(tm_year=2019, tm_mon=6, tm_mday=23, tm_hour=13, tm_min=33, tm_sec=56, tm_wday=6, tm_yday=174, tm_isdst=0),\n",
       " 'href': 'https://sfbay.craigslist.org/stp/index.rss',\n",
       " 'status': 301,\n",
       " 'encoding': 'UTF-8',\n",
       " 'bozo_exception': xml.sax._exceptions.SAXParseException('mismatched tag'),\n",
       " 'version': '',\n",
       " 'namespaces': {}}"
      ]
     },
     "execution_count": 21,
     "metadata": {},
     "output_type": "execute_result"
    }
   ],
   "source": [
    "sy"
   ]
  },
  {
   "cell_type": "code",
   "execution_count": null,
   "metadata": {},
   "outputs": [],
   "source": []
  }
 ],
 "metadata": {
  "kernelspec": {
   "display_name": "Python 3",
   "language": "python",
   "name": "python3"
  },
  "language_info": {
   "codemirror_mode": {
    "name": "ipython",
    "version": 3
   },
   "file_extension": ".py",
   "mimetype": "text/x-python",
   "name": "python",
   "nbconvert_exporter": "python",
   "pygments_lexer": "ipython3",
   "version": "3.6.5"
  }
 },
 "nbformat": 4,
 "nbformat_minor": 2
}
