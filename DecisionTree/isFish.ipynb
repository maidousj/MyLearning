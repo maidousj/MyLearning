{
 "cells": [
  {
   "cell_type": "markdown",
   "metadata": {},
   "source": [
    "#### 项目案例1: 判定鱼类和非鱼类 项目概述\n",
    "根据以下 2 个特征，将动物分成两类: 鱼类和非鱼类。 \n",
    "\n",
    "特征:\n",
    "1. 不浮出水面是否可以生存 \n",
    "2. 是否有脚蹼"
   ]
  },
  {
   "cell_type": "code",
   "execution_count": 1,
   "metadata": {},
   "outputs": [],
   "source": [
    "## 准备数据:树构造算法只适用于标称型数据，因此数值型数据必须离散化\n",
    "## 此处，由于我们输入的数据本身就是离散化数据，所以这一步就省略了。\n",
    "def createDataSet():\n",
    "    dataSet = [[1, 1, 'yes'],\n",
    "               [1, 1, 'yes'], \n",
    "               [1, 0, 'no'], \n",
    "               [0, 1, 'no'], \n",
    "               [0, 1, 'no']]\n",
    "    labels = ['no surfacing', 'flippers'] \n",
    "    return dataSet, labels"
   ]
  },
  {
   "cell_type": "code",
   "execution_count": null,
   "metadata": {},
   "outputs": [],
   "source": [
    "## 计算给定数据集的香农熵的函数\n",
    "def calcEntropy()"
   ]
  }
 ],
 "metadata": {
  "kernelspec": {
   "display_name": "Python 3",
   "language": "python",
   "name": "python3"
  },
  "language_info": {
   "codemirror_mode": {
    "name": "ipython",
    "version": 3
   },
   "file_extension": ".py",
   "mimetype": "text/x-python",
   "name": "python",
   "nbconvert_exporter": "python",
   "pygments_lexer": "ipython3",
   "version": "3.6.5"
  }
 },
 "nbformat": 4,
 "nbformat_minor": 2
}
